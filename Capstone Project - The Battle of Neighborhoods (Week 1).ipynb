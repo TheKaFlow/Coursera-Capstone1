{
 "cells": [
  {
   "cell_type": "markdown",
   "metadata": {},
   "source": [
    "## Description of the problem and discussion of the background"
   ]
  },
  {
   "cell_type": "raw",
   "metadata": {},
   "source": [
    "Remote work has increased significantly these couple of years and is taking a new turn with the coronavirus crisis. Companies have been hit brutally and had to send their employees working from home for those that have a business that can be handled remotely. From now on companies have to rethink their work models to face crisis. Remote work can benefit both employees and employers. One on side, employees will be able to avoid spending hours in transport and will be able to pick the location they want to work from. This will improve all in all the lifework balance and many employees will opt for this solution in the future. On the other hand, companies will have the possibility to hire the best people not only in a radius of 40 kms but from everywhere in the world. It will also allow them to reduce their real estate cost substantially and will be then more cost effective. \n",
    "With that in mind, many future employees will pick a destination, pack their bags and will work remotely. This is already a reality for the digital nomads that just need a good internet connection to work from their computer. But how to choose the destination? What are the best cities to work remote?  I am not saying to choose one place and stay there forever, but a guide to know those places is always useful, like TripAdvisor or foursquare when you are looking for a nice restaurant. But before getting on board, there are some criteria to consider. For example, making sure to be able to work and to have a great overall experience onsite. In other terms, a good internet connection, affordable cost of living, safety and fun. There are many others that can be included, and we will mention them during the analysis. \n",
    "\n",
    "\n",
    "\n",
    "\n"
   ]
  },
  {
   "cell_type": "markdown",
   "metadata": {},
   "source": [
    "## Description of the data and how it will be used to solve the problem"
   ]
  },
  {
   "cell_type": "raw",
   "metadata": {},
   "source": [
    "There is many resources on internet that can be used to solve our problems. Of course, we are going to use the foursquare API to gather quantitative data of the cities. Number of coffee places, coworking places by city. You will be using also meetup that lists the number of meetups by city and tells a lot about the dynamic of a city. To work thorough on the cost of living, safety, quality of life and so on, we are going to be using numbeo that is the largest database of user contributed data about cities and countries worldwide and nomadlist that classifies the best cities to work remote. \n",
    "To work with those data, we are going to extract thanks to BeautifulSoup, put them in DataFrame and create a scoring model based on the criterion chosen. \n",
    "\n"
   ]
  }
 ],
 "metadata": {
  "kernelspec": {
   "display_name": "Python 3",
   "language": "python",
   "name": "python3"
  },
  "language_info": {
   "codemirror_mode": {
    "name": "ipython",
    "version": 3
   },
   "file_extension": ".py",
   "mimetype": "text/x-python",
   "name": "python",
   "nbconvert_exporter": "python",
   "pygments_lexer": "ipython3",
   "version": "3.7.4"
  }
 },
 "nbformat": 4,
 "nbformat_minor": 2
}
